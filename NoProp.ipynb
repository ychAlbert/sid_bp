{
 "cells": [
  {
   "cell_type": "markdown",
   "metadata": {
    "colab_type": "text",
    "id": "view-in-github"
   },
   "source": [
    "<a href=\"https://colab.research.google.com/github/Sid3503/NoProp/blob/main/NoProp.ipynb\" target=\"_parent\"><img src=\"https://colab.research.google.com/assets/colab-badge.svg\" alt=\"Open In Colab\"/></a>"
   ]
  },
  {
   "cell_type": "markdown",
   "metadata": {
    "id": "zCu1mXACaKdx"
   },
   "source": [
    "# Setup Libraries"
   ]
  },
  {
   "cell_type": "code",
   "execution_count": 1,
   "metadata": {
    "id": "ZoxseEX7_Fy1"
   },
   "outputs": [],
   "source": [
    "import torch\n",
    "import torch.nn as nn\n",
    "import torch.optim as optim\n",
    "from torchvision import datasets, transforms\n",
    "from torch.utils.data import DataLoader"
   ]
  },
  {
   "cell_type": "markdown",
   "metadata": {
    "id": "nxES-OQfaZaF"
   },
   "source": [
    "# Hyperparameters"
   ]
  },
  {
   "cell_type": "code",
   "execution_count": 2,
   "metadata": {
    "id": "GApOWb8K_QbC"
   },
   "outputs": [],
   "source": [
    "# Hyperparameters\n",
    "T = 10  # Diffusion steps\n",
    "embed_dim = 10  # Label embedding dimension(No. of Classes)\n",
    "batch_size = 128\n",
    "lr = 0.001\n",
    "epochs = 50"
   ]
  },
  {
   "cell_type": "code",
   "execution_count": 3,
   "metadata": {
    "id": "vzSRvuN-_QUv"
   },
   "outputs": [],
   "source": [
    "# Noise schedule (linear)\n",
    "alpha = torch.linspace(1.0, 0.1, T)  # α_t from 1.0 → 0.1"
   ]
  },
  {
   "cell_type": "code",
   "execution_count": null,
   "metadata": {
    "colab": {
     "base_uri": "https://localhost:8080/"
    },
    "id": "Sqfg91HP_QSx",
    "outputId": "10d03ab1-b7ad-4d32-92fc-47d80b4aae24"
   },
   "outputs": [],
   "source": [
    "print(alpha)"
   ]
  },
  {
   "cell_type": "markdown",
   "metadata": {
    "id": "eeZ3MSd3adhn"
   },
   "source": [
    "# Setting Up Models"
   ]
  },
  {
   "cell_type": "code",
   "execution_count": 5,
   "metadata": {
    "id": "uJ26Tb7Z_QQR"
   },
   "outputs": [],
   "source": [
    "# MLP for denoising\n",
    "class DenoisingMLP(nn.Module):\n",
    "    def __init__(self):\n",
    "        super().__init__()\n",
    "        self.mlp = nn.Sequential(\n",
    "            nn.Linear(128 + embed_dim, 256),  # Input: image features + noisy label\n",
    "            nn.ReLU(),\n",
    "            nn.Linear(256, embed_dim)        # Output: denoised label\n",
    "        )\n",
    "\n",
    "    def forward(self, x_features, z_t):\n",
    "        combined = torch.cat([x_features, z_t], dim=1)\n",
    "        return self.mlp(combined)"
   ]
  },
  {
   "cell_type": "code",
   "execution_count": 6,
   "metadata": {
    "id": "JDYgzrdr_tsx"
   },
   "outputs": [],
   "source": [
    "# CNN for image features\n",
    "class CNN(nn.Module):\n",
    "    def __init__(self):\n",
    "        super().__init__()\n",
    "        self.features = nn.Sequential(\n",
    "            nn.Conv2d(1, 32, 3, 1),\n",
    "            nn.ReLU(),\n",
    "            nn.MaxPool2d(2),\n",
    "            nn.Conv2d(32, 64, 3, 1),\n",
    "            nn.ReLU(),\n",
    "            nn.MaxPool2d(2),\n",
    "            nn.Flatten(),\n",
    "            nn.Linear(1600, 128)  # MNIST: 28x28 → 1600-dim\n",
    "        )\n",
    "\n",
    "    def forward(self, x):\n",
    "        return self.features(x)"
   ]
  },
  {
   "cell_type": "code",
   "execution_count": 7,
   "metadata": {
    "id": "bTXUdHIm_wEw"
   },
   "outputs": [],
   "source": [
    "# Initialize models\n",
    "cnn = CNN()\n",
    "mlps = nn.ModuleList([DenoisingMLP() for _ in range(T)])  # One MLP per layer\n",
    "optimizers = [optim.Adam(mlp.parameters(), lr=lr) for mlp in mlps]"
   ]
  },
  {
   "cell_type": "code",
   "execution_count": null,
   "metadata": {
    "colab": {
     "base_uri": "https://localhost:8080/"
    },
    "id": "3c_c5vIBaE1o",
    "outputId": "348103a5-19c8-4a99-db33-d5997ab6a314"
   },
   "outputs": [],
   "source": [
    "cnn"
   ]
  },
  {
   "cell_type": "code",
   "execution_count": null,
   "metadata": {
    "colab": {
     "base_uri": "https://localhost:8080/"
    },
    "id": "uwA8rRCqaF4C",
    "outputId": "47eed38e-48ce-4186-a945-d0f0795f1f95"
   },
   "outputs": [],
   "source": [
    "mlps"
   ]
  },
  {
   "cell_type": "markdown",
   "metadata": {
    "id": "TY3BUc9Dah44"
   },
   "source": [
    "# Preparing Dataset"
   ]
  },
  {
   "cell_type": "code",
   "execution_count": 10,
   "metadata": {
    "colab": {
     "base_uri": "https://localhost:8080/"
    },
    "id": "zZAWOkNB_xuF",
    "outputId": "3acd5dba-09e9-40a9-cd8c-16e8a87d6ffc"
   },
   "outputs": [
    {
     "name": "stderr",
     "output_type": "stream",
     "text": [
      "100%|██████████| 9.91M/9.91M [00:44<00:00, 225kB/s] \n",
      "100%|██████████| 28.9k/28.9k [00:00<00:00, 444kB/s]\n",
      "100%|██████████| 1.65M/1.65M [00:06<00:00, 256kB/s]\n",
      "100%|██████████| 4.54k/4.54k [00:00<00:00, 2.30MB/s]\n"
     ]
    }
   ],
   "source": [
    "# Load MNIST\n",
    "transform = transforms.ToTensor()\n",
    "train_data = datasets.MNIST(root='./data', train=True, download=True, transform=transform)\n",
    "train_loader = DataLoader(train_data, batch_size=batch_size, shuffle=True)"
   ]
  },
  {
   "cell_type": "markdown",
   "metadata": {
    "id": "0lgU9EC0amwQ"
   },
   "source": [
    "# Training"
   ]
  },
  {
   "cell_type": "markdown",
   "metadata": {
    "id": "HjthYG3JddhO"
   },
   "source": [
    "---\n",
    "\n",
    "### **NoProp Training Dry Run (1 Epoch Example)**\n",
    "\n",
    "\n",
    "# 🧪 NoProp Training Dry Run (1 Epoch)\n",
    "\n",
    "Let's simulate **one epoch** of training with:\n",
    "- Batch size = 3\n",
    "- Classes = 3 (\"cat\", \"dog\", \"bird\")\n",
    "- Diffusion steps (T) = 2\n",
    "\n",
    "## 📥 Batch Data\n",
    "**Input (x):** 3 images  \n",
    "**Labels (y):** [\"cat\"=0, \"dog\"=1, \"bird\"=2]  \n",
    "→ One-hot encoded `u_y`:\n",
    "```\n",
    "tensor([\n",
    " [1., 0., 0.],  # cat\n",
    " [0., 1., 0.],  # dog\n",
    " [0., 0., 1.]   # bird\n",
    "])\n",
    "```\n",
    "\n",
    "---\n",
    "\n",
    "## 🌪️ Forward Diffusion (Corrupt Labels)\n",
    "**Noise schedule (α):** [α₀=1.0, α₁=0.6, α₂=0.3]  \n",
    "1. **t=0:** `z₀ = u_y` (clean)\n",
    "\n",
    "2. **t=1:**  \n",
    "   `z₁ = √0.6*z₀ + √0.4*noise` ≈\n",
    "```\n",
    "tensor([\n",
    " [0.77, 0.20, 0.03],  # noisy cat\n",
    " [0.10, 0.85, 0.05],  # noisy dog\n",
    " [0.05, 0.10, 0.85]   # noisy bird\n",
    "])\n",
    "```\n",
    "\n",
    "\n",
    "3. **t=2:**  \n",
    "   `z₂ = √0.3*z₁ + √0.7*noise` ≈\n",
    "\n",
    "```\n",
    "tensor([\n",
    " [0.40, 0.35, 0.25],  # very noisy cat\n",
    " [0.25, 0.45, 0.30],  # very noisy dog\n",
    " [0.20, 0.25, 0.55]   # very noisy bird\n",
    "])\n",
    "```\n",
    "\n",
    "---\n",
    "\n",
    "**Example for MLP1 (t=1):**\n",
    "- **Input:** Image features + `z₁ = [0.77,0.20,0.03]` (noisy cat)\n",
    "- **Prediction:** `[0.9, 0.1, 0.0]` (should approach `[1,0,0]`)\n",
    "- **Loss:** MSE([0.9,0.1,0.0], [1,0,0]) = 0.01\n",
    "\n",
    "## 🔄 Weight Updates\n",
    "1. Sum losses from all MLPs → `total_loss`\n",
    "2. Backpropagate → Update all MLPs independently\n",
    "\n",
    "## 📊 Epoch Output\n",
    "`Epoch 1/10 | Avg Loss: 0.85`  \n",
    "*(Loss decreases as MLPs learn to denoise better)*\n",
    "\n",
    "---\n",
    "\n",
    "### **Key Takeaways**\n",
    "1. **Diffusion**: Labels are progressively noised from clean → random.\n",
    "2. **Specialization**: Each MLP handles a specific noise level.\n",
    "3. **Independence**: No backprop between layers → parallel training."
   ]
  },
  {
   "cell_type": "code",
   "execution_count": null,
   "metadata": {
    "colab": {
     "base_uri": "https://localhost:8080/"
    },
    "id": "KtGT_c1H_y9r",
    "outputId": "2ae2430a-4e96-4e08-9ce6-1e7bc7b719ed"
   },
   "outputs": [],
   "source": [
    "# Training loop\n",
    "for epoch in range(epochs):\n",
    "    epoch_loss = 0.0\n",
    "    batch_count = 0\n",
    "\n",
    "    for x, y in train_loader:\n",
    "        current_batch_size = x.shape[0]\n",
    "        u_y = torch.zeros(current_batch_size, embed_dim).scatter_(1, y.unsqueeze(1), 1)\n",
    "\n",
    "        # Forward diffusion(Adding Noise for each 'T')\n",
    "        z = [u_y]\n",
    "        for t in range(1, T + 1):\n",
    "            eps = torch.randn_like(u_y)\n",
    "            z_t = torch.sqrt(alpha[t-1]) * z[-1] + torch.sqrt(1 - alpha[t-1]) * eps\n",
    "            z.append(z_t)\n",
    "\n",
    "        # Train MLPs\n",
    "        x_features = cnn(x)\n",
    "        losses = []\n",
    "        for t in range(T):\n",
    "            u_hat = mlps[t](x_features, z[t+1].detach())\n",
    "            losses.append(torch.mean((u_hat - u_y) ** 2))\n",
    "\n",
    "        total_loss = sum(losses)\n",
    "        for opt in optimizers:\n",
    "            opt.zero_grad()\n",
    "        total_loss.backward()\n",
    "        for opt in optimizers:\n",
    "            opt.step()\n",
    "\n",
    "        epoch_loss += total_loss.item()\n",
    "        batch_count += 1\n",
    "\n",
    "    # Epoch summary print\n",
    "    avg_loss = epoch_loss / batch_count\n",
    "    print(f\"Epoch {epoch+1}/{epochs} | Avg Loss: {avg_loss:.4f}\")\n",
    "\n",
    "# Final message\n",
    "print(\"Training complete!\")"
   ]
  },
  {
   "cell_type": "markdown",
   "metadata": {
    "id": "kGrsvukHaqGX"
   },
   "source": [
    "# Inferencing"
   ]
  },
  {
   "cell_type": "code",
   "execution_count": 24,
   "metadata": {
    "id": "LINA1yBV_0XH"
   },
   "outputs": [],
   "source": [
    "# Inference (denoising)\n",
    "def predict(x):\n",
    "    z_t = torch.randn(1, embed_dim)  # Start from noise\n",
    "    x_features = cnn(x.unsqueeze(0))\n",
    "    for t in reversed(range(T)):\n",
    "        u_hat = mlps[t](x_features, z_t)\n",
    "        z_t = torch.sqrt(alpha[t]) * u_hat + torch.sqrt(1 - alpha[t]) * torch.randn_like(u_hat)\n",
    "    return torch.argmax(z_t)  # Final prediction"
   ]
  },
  {
   "cell_type": "code",
   "execution_count": 48,
   "metadata": {
    "colab": {
     "base_uri": "https://localhost:8080/"
    },
    "id": "Qs8kIZcb_0Tp",
    "outputId": "8823f70e-d3f6-4eb8-c2a6-bd771136c828"
   },
   "outputs": [
    {
     "name": "stdout",
     "output_type": "stream",
     "text": [
      "Predicted: 1, True: 1\n"
     ]
    }
   ],
   "source": [
    "# Test on an example\n",
    "x_test, y_test = next(iter(train_loader))\n",
    "pred = predict(x_test[0])\n",
    "print(f\"Predicted: {pred}, True: {y_test[0]}\")"
   ]
  },
  {
   "cell_type": "code",
   "execution_count": 29,
   "metadata": {
    "id": "XTHv45S5_0RO"
   },
   "outputs": [],
   "source": [
    "import matplotlib.pyplot as plt\n",
    "import numpy as np\n",
    "\n",
    "def plot_prediction(x, true_label, pred_label, class_names=None):\n",
    "    \"\"\"\n",
    "    Plot image with true and predicted labels.\n",
    "\n",
    "    Args:\n",
    "        x (torch.Tensor): Input image tensor (1, C, H, W)\n",
    "        true_label (int): Ground truth class index\n",
    "        pred_label (int): Predicted class index\n",
    "        class_names (list): Optional list of class names\n",
    "    \"\"\"\n",
    "    # Convert tensor to numpy and denormalize if needed\n",
    "    img = x.squeeze().cpu().numpy()\n",
    "    if img.min() < 0 or img.max() > 1:  # Assuming [0,1] or [-1,1] range\n",
    "        img = (img - img.min()) / (img.max() - img.min())\n",
    "\n",
    "    # Create figure\n",
    "    plt.figure(figsize=(6, 3))\n",
    "\n",
    "    # Plot image\n",
    "    plt.subplot(1, 2, 1)\n",
    "    plt.imshow(img, cmap='gray' if img.ndim == 2 else None)\n",
    "    plt.axis('off')\n",
    "    plt.title('Input Image', pad=10)\n",
    "\n",
    "    # Plot labels\n",
    "    plt.subplot(1, 2, 2)\n",
    "    plt.axis('off')\n",
    "\n",
    "    if class_names:\n",
    "        true_str = f\"True: {class_names[true_label]} ({true_label})\"\n",
    "        pred_str = f\"Predicted: {class_names[pred_label]} ({pred_label})\"\n",
    "    else:\n",
    "        true_str = f\"True label: {true_label}\"\n",
    "        pred_str = f\"Predicted: {pred_label}\"\n",
    "\n",
    "    plt.text(0.1, 0.7, true_str, fontsize=12, color='green')\n",
    "    plt.text(0.1, 0.5, pred_str,\n",
    "             fontsize=12,\n",
    "             color='red' if true_label != pred_label else 'green')\n",
    "\n",
    "    # Highlight incorrect predictions\n",
    "    if true_label != pred_label:\n",
    "        plt.text(0.1, 0.3, \"INCORRECT\", fontsize=14, color='red', weight='bold')\n",
    "\n",
    "    plt.tight_layout()\n",
    "    plt.show()"
   ]
  },
  {
   "cell_type": "code",
   "execution_count": 57,
   "metadata": {
    "colab": {
     "base_uri": "https://localhost:8080/",
     "height": 316
    },
    "id": "WK1nzjCt_0O-",
    "outputId": "d3afcc0a-d137-4ad0-dec9-e1a7fe0faa07"
   },
   "outputs": [
    {
     "data": {
      "image/png": "[encoded data removed]",
      "text/plain": [
       "<Figure size 600x300 with 2 Axes>"
      ]
     },
     "metadata": {},
     "output_type": "display_data"
    }
   ],
   "source": [
    "# Example usage with MNIST\n",
    "class_names = [str(i) for i in range(10)]  # ['0', '1', ..., '9']\n",
    "x_test, y_test = next(iter(train_loader))\n",
    "pred = predict(x_test[0])\n",
    "\n",
    "plot_prediction(x_test[0],\n",
    "               y_test[0].item(),\n",
    "               pred.item(),\n",
    "               class_names)"
   ]
  },
  {
   "cell_type": "code",
   "execution_count": null,
   "metadata": {
    "id": "nGEr22BecAXl"
   },
   "outputs": [],
   "source": []
  }
 ],
 "metadata": {
  "accelerator": "GPU",
  "colab": {
   "authorship_tag": "ABX9TyOg0HFF5C/8CLWLLGaczBlp",
   "gpuType": "T4",
   "include_colab_link": true,
   "provenance": []
  },
  "kernelspec": {
   "display_name": "fl",
   "language": "python",
   "name": "python3"
  },
  "language_info": {
   "codemirror_mode": {
    "name": "ipython",
    "version": 3
   },
   "file_extension": ".py",
   "mimetype": "text/x-python",
   "name": "python",
   "nbconvert_exporter": "python",
   "pygments_lexer": "ipython3",
   "version": "3.9.21"
  }
 },
 "nbformat": 4,
 "nbformat_minor": 4
}
